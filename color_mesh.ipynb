{
 "cells": [
  {
   "cell_type": "code",
   "execution_count": 9,
   "metadata": {},
   "outputs": [
    {
     "name": "stdout",
     "output_type": "stream",
     "text": [
      "/data2_12t/user/wlz/anaconda3/envs/ngp/lib/python3.8/site-packages/torch/functional.py:568: UserWarning: torch.meshgrid: in an upcoming release, it will be required to pass the indexing argument. (Triggered internally at  /opt/conda/conda-bld/pytorch_1646755903507/work/aten/src/ATen/native/TensorShape.cpp:2228.)\n",
      "  return _VF.meshgrid(tensors, **kwargs)  # type: ignore[attr-defined]\n",
      "Loading 100 test images ...\n",
      "100%|█████████████████████████████████████████| 100/100 [00:04<00:00, 23.96it/s]\n",
      "/data2_12t/user/wlz/Code/ngp_pl-master/datasets/nerf.py:93: UserWarning: Creating a tensor from a list of numpy.ndarrays is extremely slow. Please consider converting the list to a single numpy.ndarray with numpy.array() before converting to a tensor. (Triggered internally at  /opt/conda/conda-bld/pytorch_1646755903507/work/torch/csrc/utils/tensor_new.cpp:210.)\n",
      "  self.poses = torch.FloatTensor(self.poses) # (N_images, 3, 4)\n",
      "GridEncoding: Nmin=16 b=1.31951 F=2 T=2^19 L=16\n",
      "Predicting occupancy ...\n",
      "Extracting mesh ...\n",
      "Removing noise ...\n",
      "Mesh has 2.33 M vertices and 4.74 M faces.\n",
      "Fusing colors ...\n",
      "100%|█████████████████████████████████████████| 100/100 [00:49<00:00,  2.03it/s]\n",
      "Done!\n"
     ]
    }
   ],
   "source": [
    "# Copy the variables you have above here! ####\n",
    "img_wh = (800, 800) # full resolution of the input images\n",
    "dataset_name = 'nerf' # blender or llff (own data)\n",
    "scene = 'apple' # whatever you want\n",
    "root_dir = f'/data2_12t/dataset/OpenXD-OmniObject3D-New/raw/blender_renders/{scene}_001/render/' # the folder containing data\n",
    "ckpt_path = f'ckpts/{dataset_name}/{scene}/epoch=29_slim.ckpt' # the model path\n",
    "\n",
    "N = 400        \n",
    "xmin, xmax = -0.5, 0.5 # left/right range\n",
    "ymin, ymax = -0.5, 0.5 # forward/backward range\n",
    "zmin, zmax = -0.5, 0.5 # up/down range\n",
    "## Attention! the ranges MUST have the same length!\n",
    "sigma_threshold = 20. # controls the noise (lower=maybe more noise; higher=some mesh might be missing)\n",
    "###############################################\n",
    "\n",
    "import os\n",
    "os.environ['CUDA_VISIBLE_DEVICES'] = '0'\n",
    "os.environ['ROOT_DIR'] = root_dir\n",
    "os.environ['DATASET_NAME'] = dataset_name\n",
    "os.environ['SCENE'] = scene\n",
    "os.environ['IMG_SIZE'] = f\"{img_wh[0]} {img_wh[1]}\"\n",
    "os.environ['CKPT_PATH'] = ckpt_path\n",
    "os.environ['N_GRID'] = f\"{N}\" # final resolution. You can set this number high to preserve more details\n",
    "os.environ['X_RANGE'] = f\"{xmin} {xmax}\"\n",
    "os.environ['Y_RANGE'] = f\"{ymin} {ymax}\"\n",
    "os.environ['Z_RANGE'] = f\"{zmin} {zmax}\"\n",
    "os.environ['SIGMA_THRESHOLD'] = str(sigma_threshold)\n",
    "os.environ['OCC_THRESHOLD'] = \"0.2\" # probably doesn't require tuning. If you find the color is not close\n",
    "                                    # to real, try to set this number smaller (the effect of this number\n",
    "                                    # is explained in my youtube video)\n",
    "\n",
    "!python extract_color_mesh.py \\\n",
    "    --root_dir $ROOT_DIR \\\n",
    "    --dataset_name $DATASET_NAME \\\n",
    "    --scene $SCENE \\\n",
    "    --img_wh $IMG_SIZE \\\n",
    "    --ckpt_path $CKPT_PATH \\\n",
    "    --N_grid $N_GRID \\\n",
    "    --x_range $X_RANGE \\\n",
    "    --y_range $Y_RANGE \\\n",
    "    --z_range $Z_RANGE \\\n",
    "    --sigma_threshold $SIGMA_THRESHOLD \\\n",
    "    --occ_threshold $OCC_THRESHOLD "
   ]
  },
  {
   "cell_type": "code",
   "execution_count": null,
   "metadata": {},
   "outputs": [],
   "source": []
  }
 ],
 "metadata": {
  "kernelspec": {
   "display_name": "nerf_pl",
   "language": "python",
   "name": "python3"
  },
  "language_info": {
   "codemirror_mode": {
    "name": "ipython",
    "version": 3
   },
   "file_extension": ".py",
   "mimetype": "text/x-python",
   "name": "python",
   "nbconvert_exporter": "python",
   "pygments_lexer": "ipython3",
   "version": "3.8.17"
  },
  "vscode": {
   "interpreter": {
    "hash": "5fcac3b0ee37ef2aa4c453a34ad698721dd94536c5e8cd07bec957a1356b9861"
   }
  }
 },
 "nbformat": 4,
 "nbformat_minor": 4
}
