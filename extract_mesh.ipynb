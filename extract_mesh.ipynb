{
 "cells": [
  {
   "cell_type": "code",
   "execution_count": 1,
   "metadata": {},
   "outputs": [],
   "source": [
    "import os\n",
    "import torch\n",
    "import time\n",
    "from collections import defaultdict\n",
    "import numpy as np\n",
    "\n",
    "from models.networks import NGP\n",
    "from models.rendering import render\n",
    "\n",
    "from datasets import dataset_dict\n",
    "from utils import load_ckpt\n",
    "import matplotlib.pyplot as plt\n",
    "from tqdm.notebook import tqdm\n",
    "from datasets import dataset_dict\n"
   ]
  },
  {
   "cell_type": "markdown",
   "metadata": {},
   "source": [
    "# Load model and data"
   ]
  },
  {
   "cell_type": "code",
   "execution_count": null,
   "metadata": {},
   "outputs": [],
   "source": [
    "# Change here #\n",
    "# img_wh = (800, 800) # full resolution of the input images\n",
    "# dataset_name = 'llff' # blender or llff (own data)\n",
    "# scene_name = 'test2' # whatever you want\n",
    "# root_dir = 'test2/' # the folder containing data\n",
    "# ckpt_path = 'ckpts/exp2/epoch=29.ckpt' # the model path\n",
    "###############\n",
    "# dataset_name = 'colmap'\n",
    "# scene = 'test'\n",
    "# dataset = dataset_dict[dataset_name](\n",
    "#     f'/data2_12t/dataset/3D_Project',\n",
    "#     split='test', downsample=1.0/2\n",
    "# )\n",
    "\n",
    "dataset_name = 'nerf'\n",
    "scene = 'apple'\n",
    "dataset = dataset_dict[dataset_name](\n",
    "    f'/data2_12t/dataset/OpenXD-OmniObject3D-New/raw/blender_renders/apple_001/render/',\n",
    "    split='test', downsample=1.0/4\n",
    ")\n",
    "\n",
    "# dataset_name = 'nsvf'\n",
    "# scene = 'Barn'\n",
    "# dataset = dataset_dict[dataset_name](\n",
    "#     f'/data2_12t/dataset/TanksAndTemple/{scene}',\n",
    "#     split='test', downsample=1.0/4\n",
    "# )\n"
   ]
  },
  {
   "cell_type": "code",
   "execution_count": null,
   "metadata": {},
   "outputs": [],
   "source": [
    "os.environ[\"CUDA_VISIBLE_DEVICES\"] = \"0,1\"\n",
    "model = NGP(scale=0.5).cuda()\n",
    "load_ckpt(model, f'ckpts/{dataset_name}/{scene}/epoch=29_slim.ckpt')"
   ]
  },
  {
   "cell_type": "code",
   "execution_count": null,
   "metadata": {},
   "outputs": [],
   "source": [
    "from kornia.utils.grid import create_meshgrid3d\n",
    "import vren\n",
    "\n",
    "xyz = create_meshgrid3d(model.grid_size, model.grid_size, model.grid_size, False, dtype=torch.int32).reshape(-1, 3)\n",
    "_density_bitfield = model.density_bitfield\n",
    "density_bitfield = torch.zeros(model.cascades*model.grid_size**3//8, 8, dtype=torch.bool)\n",
    "for i in range(8):\n",
    "    density_bitfield[:, i] = _density_bitfield & torch.tensor([2**i], device='cuda')\n",
    "density_bitfield = density_bitfield.reshape(model.cascades, model.grid_size**3).cpu()\n",
    "indices = vren.morton3D(xyz.cuda()).long()"
   ]
  },
  {
   "cell_type": "markdown",
   "metadata": {},
   "source": [
    "# Search for tight bounds of the object (trial and error!)"
   ]
  },
  {
   "cell_type": "code",
   "execution_count": null,
   "metadata": {},
   "outputs": [],
   "source": [
    "# ### Tune these parameters until the whole object lies tightly in range with little noise ###\n",
    "\n",
    "import mcubes\n",
    "import trimesh\n",
    "\n",
    "N = 400 # controls the resolution, set this number small here because we're only finding\n",
    "        # good ranges here, not yet for mesh reconstruction; we can set this number high\n",
    "        # when it comes to final reconstruction.\n",
    "xmin, xmax = -0.5, 0.5 # left/right range\n",
    "ymin, ymax = -0.5, 0.5 # forward/backward range\n",
    "zmin, zmax = -0.5, 0.5 # up/down range\n",
    "## Attention! the ranges MUST have the same length!\n",
    "sigma_threshold = 20. # controls the noise (lower=maybe more noise; higher=some mesh might be missing)\n",
    "############################################################################################\n",
    "\n",
    "x = np.linspace(xmin, xmax, N)\n",
    "y = np.linspace(ymin, ymax, N)\n",
    "z = np.linspace(zmin, zmax, N)\n",
    "\n",
    "xyz_ = torch.FloatTensor(np.stack(np.meshgrid(x, y, z), -1).reshape(-1, 3)).cuda()\n",
    "\n",
    "with torch.no_grad():\n",
    "    sigma = model.density(xyz_).cpu().numpy().astype(np.float32)\n",
    "    \n",
    "sigma = np.maximum(sigma, 2.0)\n",
    "sigma = sigma.reshape(N, N, N)\n",
    "# The below lines are for visualization, COMMENT OUT once you find the best range and increase N!\n",
    "vertices, triangles = mcubes.marching_cubes(sigma, sigma_threshold)\n",
    "mesh = trimesh.Trimesh(vertices/N, triangles)\n",
    "mesh.show()"
   ]
  },
  {
   "cell_type": "markdown",
   "metadata": {},
   "source": [
    "# Extract colored mesh\n",
    "\n",
    "Once you find the best range, now **RESTART** the notebook, and copy the configs to the following cell\n",
    "and execute it."
   ]
  },
  {
   "cell_type": "code",
   "execution_count": 9,
   "metadata": {},
   "outputs": [
    {
     "name": "stdout",
     "output_type": "stream",
     "text": [
      "/data2_12t/user/wlz/anaconda3/envs/ngp/lib/python3.8/site-packages/torch/functional.py:568: UserWarning: torch.meshgrid: in an upcoming release, it will be required to pass the indexing argument. (Triggered internally at  /opt/conda/conda-bld/pytorch_1646755903507/work/aten/src/ATen/native/TensorShape.cpp:2228.)\n",
      "  return _VF.meshgrid(tensors, **kwargs)  # type: ignore[attr-defined]\n",
      "Loading 100 test images ...\n",
      "100%|█████████████████████████████████████████| 100/100 [00:04<00:00, 23.96it/s]\n",
      "/data2_12t/user/wlz/Code/ngp_pl-master/datasets/nerf.py:93: UserWarning: Creating a tensor from a list of numpy.ndarrays is extremely slow. Please consider converting the list to a single numpy.ndarray with numpy.array() before converting to a tensor. (Triggered internally at  /opt/conda/conda-bld/pytorch_1646755903507/work/torch/csrc/utils/tensor_new.cpp:210.)\n",
      "  self.poses = torch.FloatTensor(self.poses) # (N_images, 3, 4)\n",
      "GridEncoding: Nmin=16 b=1.31951 F=2 T=2^19 L=16\n",
      "Predicting occupancy ...\n",
      "Extracting mesh ...\n",
      "Removing noise ...\n",
      "Mesh has 2.33 M vertices and 4.74 M faces.\n",
      "Fusing colors ...\n",
      "100%|█████████████████████████████████████████| 100/100 [00:49<00:00,  2.03it/s]\n",
      "Done!\n"
     ]
    }
   ],
   "source": [
    "# Copy the variables you have above here! ####\n",
    "img_wh = (800, 800) # full resolution of the input images\n",
    "dataset_name = 'nerf' # blender or llff (own data)\n",
    "scene = 'apple' # whatever you want\n",
    "root_dir = f'/data2_12t/dataset/OpenXD-OmniObject3D-New/raw/blender_renders/{scene}_001/render/' # the folder containing data\n",
    "ckpt_path = f'ckpts/{dataset_name}/{scene}/epoch=29_slim.ckpt' # the model path\n",
    "\n",
    "N = 400        \n",
    "xmin, xmax = -0.5, 0.5 # left/right range\n",
    "ymin, ymax = -0.5, 0.5 # forward/backward range\n",
    "zmin, zmax = -0.5, 0.5 # up/down range\n",
    "## Attention! the ranges MUST have the same length!\n",
    "sigma_threshold = 20. # controls the noise (lower=maybe more noise; higher=some mesh might be missing)\n",
    "###############################################\n",
    "\n",
    "import os\n",
    "os.environ['CUDA_VISIBLE_DEVICES'] = '0'\n",
    "os.environ['ROOT_DIR'] = root_dir\n",
    "os.environ['DATASET_NAME'] = dataset_name\n",
    "os.environ['SCENE'] = scene\n",
    "os.environ['IMG_SIZE'] = f\"{img_wh[0]} {img_wh[1]}\"\n",
    "os.environ['CKPT_PATH'] = ckpt_path\n",
    "os.environ['N_GRID'] = f\"{N}\" # final resolution. You can set this number high to preserve more details\n",
    "os.environ['X_RANGE'] = f\"{xmin} {xmax}\"\n",
    "os.environ['Y_RANGE'] = f\"{ymin} {ymax}\"\n",
    "os.environ['Z_RANGE'] = f\"{zmin} {zmax}\"\n",
    "os.environ['SIGMA_THRESHOLD'] = str(sigma_threshold)\n",
    "os.environ['OCC_THRESHOLD'] = \"0.2\" # probably doesn't require tuning. If you find the color is not close\n",
    "                                    # to real, try to set this number smaller (the effect of this number\n",
    "                                    # is explained in my youtube video)\n",
    "\n",
    "!python extract_color_mesh.py \\\n",
    "    --root_dir $ROOT_DIR \\\n",
    "    --dataset_name $DATASET_NAME \\\n",
    "    --scene $SCENE \\\n",
    "    --img_wh $IMG_SIZE \\\n",
    "    --ckpt_path $CKPT_PATH \\\n",
    "    --N_grid $N_GRID \\\n",
    "    --x_range $X_RANGE \\\n",
    "    --y_range $Y_RANGE \\\n",
    "    --z_range $Z_RANGE \\\n",
    "    --sigma_threshold $SIGMA_THRESHOLD \\\n",
    "    --occ_threshold $OCC_THRESHOLD "
   ]
  },
  {
   "cell_type": "code",
   "execution_count": null,
   "metadata": {},
   "outputs": [],
   "source": []
  }
 ],
 "metadata": {
  "kernelspec": {
   "display_name": "nerf_pl",
   "language": "python",
   "name": "python3"
  },
  "language_info": {
   "codemirror_mode": {
    "name": "ipython",
    "version": 3
   },
   "file_extension": ".py",
   "mimetype": "text/x-python",
   "name": "python",
   "nbconvert_exporter": "python",
   "pygments_lexer": "ipython3",
   "version": "3.8.17"
  },
  "vscode": {
   "interpreter": {
    "hash": "5fcac3b0ee37ef2aa4c453a34ad698721dd94536c5e8cd07bec957a1356b9861"
   }
  }
 },
 "nbformat": 4,
 "nbformat_minor": 4
}
